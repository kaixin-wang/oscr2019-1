{
 "cells": [
  {
   "cell_type": "code",
   "execution_count": 5,
   "metadata": {},
   "outputs": [],
   "source": [
    "import pandas as pd\n",
    "import numpy as np\n",
    "import matplotlib as mpl"
   ]
  },
  {
   "cell_type": "code",
   "execution_count": 2,
   "metadata": {},
   "outputs": [],
   "source": [
    "data = pd.read_csv(\"person_info.csv\")"
   ]
  },
  {
   "cell_type": "markdown",
   "metadata": {},
   "source": [
    "You can find the data here: https://github.com/lizhouf/oscr2019/blob/master/person_info.csv"
   ]
  },
  {
   "cell_type": "code",
   "execution_count": null,
   "metadata": {},
   "outputs": [],
   "source": [
    "data"
   ]
  },
  {
   "cell_type": "markdown",
   "metadata": {},
   "source": [
    "## How to Check and Clean Outliers using Python?"
   ]
  },
  {
   "cell_type": "markdown",
   "metadata": {},
   "source": [
    "The Simple Case\n",
    "In gneral cases, we want to have some understanding of how scattered is our data, i.e. the visual \"shape\" of our data. It is recommended that you draw boxplot to see the outlier status. For example, for the age column, you can check:"
   ]
  },
  {
   "cell_type": "code",
   "execution_count": 7,
   "metadata": {},
   "outputs": [
    {
     "data": {
      "text/plain": [
       "<matplotlib.axes._subplots.AxesSubplot at 0x115bfa160>"
      ]
     },
     "execution_count": 7,
     "metadata": {},
     "output_type": "execute_result"
    },
    {
     "data": {
      "image/png": "[encoded data removed]",
      "text/plain": [
       "<Figure size 432x288 with 1 Axes>"
      ]
     },
     "metadata": {
      "needs_background": "light"
     },
     "output_type": "display_data"
    }
   ],
   "source": [
    "data.boxplot(column=[\"age\"])"
   ]
  },
  {
   "cell_type": "markdown",
   "metadata": {},
   "source": [
    "## Advanced Outliers Removing"
   ]
  },
  {
   "cell_type": "markdown",
   "metadata": {},
   "source": [
    "Sometimes, digital humanities and social sciences researchers don't have to clean the outliers. Instead, the research could go further by analyzing those outliers using domain knowledge. By explaining how the outliers form and what significances they have may give good perspectives or guide lines for further research.\n",
    "\n",
    "If you need to clean the outliers, however, you can either manually clean they base on your need or try some techniques packaged by others. There are some packages (in Python and/or R) you can check for specific outlier detection requirements:\n",
    "\n",
    "“Outliers”: contains some common tests used for detecting outliers such as rm.outlier (remove/replace values most different from the mean) and scores (calculates the normal, t, chi-square score of given data for identifying extreme value)\n",
    "“OutlierDetection”: provides labeling of outliers based on model-based outlier detection, distance-based outlier detection, depth based outlier detection\n",
    "“HighDimsOut”: provides three high-dimensional outlier detection methods: Angels-Based Outlier Detection (ABOD), Subspace Outlier Detection (SOD) and feature bagging-based outlier detection (FBOD)\n",
    "You can also refer to this post for more information: https://towardsdatascience.com/ways-to-detect-and-remove-the-outliers-404d16608dba"
   ]
  }
 ],
 "metadata": {
  "kernelspec": {
   "display_name": "Python 3",
   "language": "python",
   "name": "python3"
  },
  "language_info": {
   "codemirror_mode": {
    "name": "ipython",
    "version": 3
   },
   "file_extension": ".py",
   "mimetype": "text/x-python",
   "name": "python",
   "nbconvert_exporter": "python",
   "pygments_lexer": "ipython3",
   "version": "3.7.3"
  }
 },
 "nbformat": 4,
 "nbformat_minor": 2
}
