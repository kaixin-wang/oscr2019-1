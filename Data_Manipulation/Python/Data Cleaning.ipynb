{
 "cells": [
  {
   "cell_type": "code",
   "execution_count": 2,
   "metadata": {},
   "outputs": [],
   "source": [
    "import pandas as pd\n",
    "import numpy as np"
   ]
  },
  {
   "cell_type": "code",
   "execution_count": 3,
   "metadata": {},
   "outputs": [],
   "source": [
    "data = pd.read_csv(\"person_info.csv\")"
   ]
  },
  {
   "cell_type": "code",
   "execution_count": 4,
   "metadata": {},
   "outputs": [
    {
     "data": {
      "text/html": [
       "<div>\n",
       "<style scoped>\n",
       "    .dataframe tbody tr th:only-of-type {\n",
       "        vertical-align: middle;\n",
       "    }\n",
       "\n",
       "    .dataframe tbody tr th {\n",
       "        vertical-align: top;\n",
       "    }\n",
       "\n",
       "    .dataframe thead th {\n",
       "        text-align: right;\n",
       "    }\n",
       "</style>\n",
       "<table border=\"1\" class=\"dataframe\">\n",
       "  <thead>\n",
       "    <tr style=\"text-align: right;\">\n",
       "      <th></th>\n",
       "      <th>first_name</th>\n",
       "      <th>last_name</th>\n",
       "      <th>birthday</th>\n",
       "      <th>age</th>\n",
       "      <th>state</th>\n",
       "      <th>address</th>\n",
       "      <th>City</th>\n",
       "      <th>phone</th>\n",
       "      <th>email</th>\n",
       "      <th>car_1</th>\n",
       "      <th>gpa</th>\n",
       "      <th>year</th>\n",
       "      <th>class_of</th>\n",
       "      <th>online_signiture</th>\n",
       "    </tr>\n",
       "  </thead>\n",
       "  <tbody>\n",
       "    <tr>\n",
       "      <th>0</th>\n",
       "      <td>Carol</td>\n",
       "      <td>Davis</td>\n",
       "      <td>9/29/1996</td>\n",
       "      <td>23</td>\n",
       "      <td>Illinois</td>\n",
       "      <td>1674 Carolyns Circle</td>\n",
       "      <td>Burr Ridge, Illinois(IL), 60527</td>\n",
       "      <td>312-295-1941</td>\n",
       "      <td>curt1995@gmail.com</td>\n",
       "      <td>6ZUA618</td>\n",
       "      <td>2.85</td>\n",
       "      <td>1</td>\n",
       "      <td>2022</td>\n",
       "      <td>Don't aim for success if you want it just do w...</td>\n",
       "    </tr>\n",
       "    <tr>\n",
       "      <th>1</th>\n",
       "      <td>Bruno</td>\n",
       "      <td>Horan</td>\n",
       "      <td>6/11/1995</td>\n",
       "      <td>24</td>\n",
       "      <td>California</td>\n",
       "      <td>1561 Still Street</td>\n",
       "      <td>San Diego, California(CA), 92111</td>\n",
       "      <td>858-449-3324</td>\n",
       "      <td>guadalupe1974@yahoo.com</td>\n",
       "      <td>982KRK</td>\n",
       "      <td>3.47</td>\n",
       "      <td>2</td>\n",
       "      <td>2021</td>\n",
       "      <td>In any investment, you expect to have fun and ...</td>\n",
       "    </tr>\n",
       "    <tr>\n",
       "      <th>2</th>\n",
       "      <td>William</td>\n",
       "      <td>Moody</td>\n",
       "      <td>2/27/1997</td>\n",
       "      <td>22</td>\n",
       "      <td>Illinois</td>\n",
       "      <td>541 Jade wood Drive</td>\n",
       "      <td>Arlington Heights, Illinois(IL), 60004</td>\n",
       "      <td>979-614-4038</td>\n",
       "      <td>roosevelt.fee@hotmail.com</td>\n",
       "      <td>PS9-S917</td>\n",
       "      <td>2.78</td>\n",
       "      <td>2</td>\n",
       "      <td>2021</td>\n",
       "      <td>It's not my fault that people don't appreciate...</td>\n",
       "    </tr>\n",
       "    <tr>\n",
       "      <th>3</th>\n",
       "      <td>Robin</td>\n",
       "      <td>Steel</td>\n",
       "      <td>8/3/1989</td>\n",
       "      <td>57</td>\n",
       "      <td>Texas</td>\n",
       "      <td>1674 Caroly  ns Circle</td>\n",
       "      <td>Josephine, Texas(TX), 75173</td>\n",
       "      <td>214-694-7864</td>\n",
       "      <td>lloyd2009@hotmail.com</td>\n",
       "      <td>na</td>\n",
       "      <td>4.33</td>\n",
       "      <td>4</td>\n",
       "      <td>2019</td>\n",
       "      <td>The press is the hired agent of a monied system</td>\n",
       "    </tr>\n",
       "    <tr>\n",
       "      <th>4</th>\n",
       "      <td>Michelle</td>\n",
       "      <td>Roberts</td>\n",
       "      <td>7/17/1995</td>\n",
       "      <td>24</td>\n",
       "      <td>Oregon</td>\n",
       "      <td>1372 Gateway   Road</td>\n",
       "      <td>Portland, Oregon(OR), 97217\\n\\n</td>\n",
       "      <td>503-283-2255</td>\n",
       "      <td>ben1972@gmail.com</td>\n",
       "      <td>6XNK620</td>\n",
       "      <td>3.75</td>\n",
       "      <td>NaN</td>\n",
       "      <td>2019</td>\n",
       "      <td>I am desperate for change - now - not in 8 yea...</td>\n",
       "    </tr>\n",
       "    <tr>\n",
       "      <th>5</th>\n",
       "      <td>June</td>\n",
       "      <td>Sneed</td>\n",
       "      <td>3/27/2000</td>\n",
       "      <td>19</td>\n",
       "      <td>Arizona</td>\n",
       "      <td>2411 Clarksburg Park Road</td>\n",
       "      <td>Phoenix, Arizona(AZ), 85003</td>\n",
       "      <td>256-286-5628</td>\n",
       "      <td>kathlyn_runolf@yahoo.com</td>\n",
       "      <td>NaN</td>\n",
       "      <td>3.60</td>\n",
       "      <td>Jr</td>\n",
       "      <td>2021</td>\n",
       "      <td>Civilization is the progress toward a society ...</td>\n",
       "    </tr>\n",
       "    <tr>\n",
       "      <th>6</th>\n",
       "      <td>Curtis</td>\n",
       "      <td>Campbell</td>\n",
       "      <td>3/15/1991</td>\n",
       "      <td>28</td>\n",
       "      <td>Idahol</td>\n",
       "      <td>2760 Science Center Drive</td>\n",
       "      <td>Pocatello, Idaho(ID), 83201</td>\n",
       "      <td>979-614-4038</td>\n",
       "      <td>justen_schust@yahoo.com</td>\n",
       "      <td>PS9-S917</td>\n",
       "      <td>2.32</td>\n",
       "      <td>3</td>\n",
       "      <td>2020</td>\n",
       "      <td>I have an incredible amount of basketball know...</td>\n",
       "    </tr>\n",
       "    <tr>\n",
       "      <th>7</th>\n",
       "      <td>Dorothy</td>\n",
       "      <td>Schott</td>\n",
       "      <td>1/2/1997</td>\n",
       "      <td>21</td>\n",
       "      <td>California</td>\n",
       "      <td>2742 Sunny Day Drive</td>\n",
       "      <td>Santa Ana, California(CA), 92770</td>\n",
       "      <td>501-281-4074</td>\n",
       "      <td>megane_purd1@hotmail.com</td>\n",
       "      <td>NaN</td>\n",
       "      <td>3.93</td>\n",
       "      <td>NaN</td>\n",
       "      <td>2020</td>\n",
       "      <td>A lawyer with his briefcase can steal more tha...</td>\n",
       "    </tr>\n",
       "    <tr>\n",
       "      <th>8</th>\n",
       "      <td>Mae</td>\n",
       "      <td>Skinner</td>\n",
       "      <td>3/16/1995</td>\n",
       "      <td>24</td>\n",
       "      <td>Pennsylvania</td>\n",
       "      <td>NaN</td>\n",
       "      <td>Newark, Pennsylvania(PA), 19714</td>\n",
       "      <td>501-334-8502</td>\n",
       "      <td>enrique.berni@gmail.com</td>\n",
       "      <td>WCE-2823</td>\n",
       "      <td>3.85</td>\n",
       "      <td>3</td>\n",
       "      <td>2020</td>\n",
       "      <td>When humor can be made to alternate with melan...</td>\n",
       "    </tr>\n",
       "    <tr>\n",
       "      <th>9</th>\n",
       "      <td>David</td>\n",
       "      <td>Victoria</td>\n",
       "      <td>8/2/1996</td>\n",
       "      <td>23</td>\n",
       "      <td>Maine</td>\n",
       "      <td>3327 Chipmunk Lane</td>\n",
       "      <td>Harpswell, Maine(ME), 04079</td>\n",
       "      <td>207-570-1895</td>\n",
       "      <td>carolina1977@hotmail.com</td>\n",
       "      <td>VDS-5639</td>\n",
       "      <td>1.74</td>\n",
       "      <td>S</td>\n",
       "      <td>2021</td>\n",
       "      <td>The difference between a beautifully made fail...</td>\n",
       "    </tr>\n",
       "  </tbody>\n",
       "</table>\n",
       "</div>"
      ],
      "text/plain": [
       "  first_name last_name   birthday  age         state  \\\n",
       "0      Carol     Davis  9/29/1996   23      Illinois   \n",
       "1      Bruno     Horan  6/11/1995   24    California   \n",
       "2    William     Moody  2/27/1997   22      Illinois   \n",
       "3      Robin     Steel   8/3/1989   57         Texas   \n",
       "4   Michelle   Roberts  7/17/1995   24        Oregon   \n",
       "5       June     Sneed  3/27/2000   19       Arizona   \n",
       "6     Curtis  Campbell  3/15/1991   28        Idahol   \n",
       "7    Dorothy    Schott   1/2/1997   21    California   \n",
       "8        Mae   Skinner  3/16/1995   24  Pennsylvania   \n",
       "9      David  Victoria   8/2/1996   23         Maine   \n",
       "\n",
       "                     address                                    City  \\\n",
       "0       1674 Carolyns Circle         Burr Ridge, Illinois(IL), 60527   \n",
       "1          1561 Still Street        San Diego, California(CA), 92111   \n",
       "2        541 Jade wood Drive  Arlington Heights, Illinois(IL), 60004   \n",
       "3     1674 Caroly  ns Circle             Josephine, Texas(TX), 75173   \n",
       "4        1372 Gateway   Road         Portland, Oregon(OR), 97217\\n\\n   \n",
       "5  2411 Clarksburg Park Road             Phoenix, Arizona(AZ), 85003   \n",
       "6  2760 Science Center Drive             Pocatello, Idaho(ID), 83201   \n",
       "7       2742 Sunny Day Drive        Santa Ana, California(CA), 92770   \n",
       "8                        NaN         Newark, Pennsylvania(PA), 19714   \n",
       "9         3327 Chipmunk Lane             Harpswell, Maine(ME), 04079   \n",
       "\n",
       "          phone                      email     car_1   gpa year  class_of  \\\n",
       "0  312-295-1941         curt1995@gmail.com   6ZUA618  2.85    1      2022   \n",
       "1  858-449-3324    guadalupe1974@yahoo.com    982KRK  3.47    2      2021   \n",
       "2  979-614-4038  roosevelt.fee@hotmail.com  PS9-S917  2.78    2      2021   \n",
       "3  214-694-7864      lloyd2009@hotmail.com        na  4.33    4      2019   \n",
       "4  503-283-2255          ben1972@gmail.com   6XNK620  3.75  NaN      2019   \n",
       "5  256-286-5628   kathlyn_runolf@yahoo.com       NaN  3.60   Jr      2021   \n",
       "6  979-614-4038    justen_schust@yahoo.com  PS9-S917  2.32    3      2020   \n",
       "7  501-281-4074   megane_purd1@hotmail.com       NaN  3.93  NaN      2020   \n",
       "8  501-334-8502    enrique.berni@gmail.com  WCE-2823  3.85    3      2020   \n",
       "9  207-570-1895   carolina1977@hotmail.com  VDS-5639  1.74    S      2021   \n",
       "\n",
       "                                    online_signiture  \n",
       "0  Don't aim for success if you want it just do w...  \n",
       "1  In any investment, you expect to have fun and ...  \n",
       "2  It's not my fault that people don't appreciate...  \n",
       "3    The press is the hired agent of a monied system  \n",
       "4  I am desperate for change - now - not in 8 yea...  \n",
       "5  Civilization is the progress toward a society ...  \n",
       "6  I have an incredible amount of basketball know...  \n",
       "7  A lawyer with his briefcase can steal more tha...  \n",
       "8  When humor can be made to alternate with melan...  \n",
       "9  The difference between a beautifully made fail...  "
      ]
     },
     "execution_count": 4,
     "metadata": {},
     "output_type": "execute_result"
    }
   ],
   "source": [
    "data"
   ]
  },
  {
   "cell_type": "markdown",
   "metadata": {},
   "source": [
    "### How to Check & Clean Missing Values / NA using Python? | A1001"
   ]
  },
  {
   "cell_type": "markdown",
   "metadata": {},
   "source": [
    "#### Check Missing Values"
   ]
  },
  {
   "cell_type": "markdown",
   "metadata": {},
   "source": [
    "Let's look at the `car_1` column of the data. `car_1` should be a column of car license, but there are several missing values, denoted in different notations. \n",
    "\n",
    "In python, all the automatically defined missing values are denoted as `np.nan` (`NaN` in the data table in Jupyter Notebook and empty space in Excel). Also, `n/a` is automatically converted to `np.nan` by python. You can check this using:"
   ]
  },
  {
   "cell_type": "code",
   "execution_count": 5,
   "metadata": {},
   "outputs": [
    {
     "data": {
      "text/plain": [
       "0    False\n",
       "1    False\n",
       "2    False\n",
       "3    False\n",
       "4    False\n",
       "5     True\n",
       "6    False\n",
       "7     True\n",
       "8    False\n",
       "9    False\n",
       "Name: car_1, dtype: bool"
      ]
     },
     "execution_count": 5,
     "metadata": {},
     "output_type": "execute_result"
    }
   ],
   "source": [
    "data.car_1.isna()"
   ]
  },
  {
   "cell_type": "code",
   "execution_count": 6,
   "metadata": {},
   "outputs": [
    {
     "data": {
      "text/plain": [
       "0    False\n",
       "1    False\n",
       "2    False\n",
       "3    False\n",
       "4    False\n",
       "5     True\n",
       "6    False\n",
       "7     True\n",
       "8    False\n",
       "9    False\n",
       "Name: car_1, dtype: bool"
      ]
     },
     "execution_count": 6,
     "metadata": {},
     "output_type": "execute_result"
    }
   ],
   "source": [
    "data.car_1.isnull()"
   ]
  },
  {
   "cell_type": "markdown",
   "metadata": {},
   "source": [
    "#### Summary the missing values' status"
   ]
  },
  {
   "cell_type": "markdown",
   "metadata": {},
   "source": [
    "From 0 to 9, each number above matches a row. We can see from the output above that, there are missing values on positions 5 and 7 are missing. Both the two functions, `isna` and `isnull` have the same output."
   ]
  },
  {
   "cell_type": "code",
   "execution_count": 9,
   "metadata": {},
   "outputs": [
    {
     "data": {
      "text/plain": [
       "first_name          0\n",
       "last_name           0\n",
       "birthday            0\n",
       "age                 0\n",
       "state               0\n",
       "address             1\n",
       "City                0\n",
       "phone               0\n",
       "email               0\n",
       "car_1               2\n",
       "gpa                 0\n",
       "year                2\n",
       "class_of            0\n",
       "online_signiture    0\n",
       "dtype: int64"
      ]
     },
     "execution_count": 9,
     "metadata": {},
     "output_type": "execute_result"
    }
   ],
   "source": [
    "data.isna().sum()"
   ]
  },
  {
   "cell_type": "code",
   "execution_count": 8,
   "metadata": {},
   "outputs": [
    {
     "data": {
      "text/plain": [
       "first_name          0\n",
       "last_name           0\n",
       "birthday            0\n",
       "age                 0\n",
       "state               0\n",
       "address             1\n",
       "City                0\n",
       "phone               0\n",
       "email               0\n",
       "car_1               2\n",
       "gpa                 0\n",
       "year                2\n",
       "class_of            0\n",
       "online_signiture    0\n",
       "dtype: int64"
      ]
     },
     "execution_count": 8,
     "metadata": {},
     "output_type": "execute_result"
    }
   ],
   "source": [
    "data.isnull().sum()"
   ]
  },
  {
   "cell_type": "markdown",
   "metadata": {},
   "source": [
    "If we want to check the "
   ]
  },
  {
   "cell_type": "code",
   "execution_count": 11,
   "metadata": {},
   "outputs": [
    {
     "data": {
      "text/plain": [
       "True"
      ]
     },
     "execution_count": 11,
     "metadata": {},
     "output_type": "execute_result"
    }
   ],
   "source": [
    "data.isnull().values.any()"
   ]
  },
  {
   "cell_type": "code",
   "execution_count": 12,
   "metadata": {},
   "outputs": [
    {
     "data": {
      "text/plain": [
       "5"
      ]
     },
     "execution_count": 12,
     "metadata": {},
     "output_type": "execute_result"
    }
   ],
   "source": [
    "data.isnull().sum().sum()"
   ]
  },
  {
   "cell_type": "markdown",
   "metadata": {},
   "source": [
    "#### Check 'Irregular' Missing Values"
   ]
  },
  {
   "cell_type": "markdown",
   "metadata": {},
   "source": [
    "We also want to find the \"irregular\" missing values. For here we can create a list of possible missing value options (this list can be customized based of specific projects):"
   ]
  },
  {
   "cell_type": "code",
   "execution_count": 5,
   "metadata": {},
   "outputs": [],
   "source": [
    "irr = [\"na\", \"n/a\", \"NA\", \"N/A\"]"
   ]
  },
  {
   "cell_type": "markdown",
   "metadata": {},
   "source": [
    "Then we impute the \"irregular\" missing values to `np.nan`:"
   ]
  },
  {
   "cell_type": "code",
   "execution_count": 20,
   "metadata": {},
   "outputs": [],
   "source": [
    "data.car_1 = data.car_1.apply(lambda x: np.nan if x in irr else x)"
   ]
  },
  {
   "cell_type": "code",
   "execution_count": 21,
   "metadata": {},
   "outputs": [
    {
     "data": {
      "text/plain": [
       "0     6ZUA618\n",
       "1      982KRK\n",
       "2    PS9-S917\n",
       "3         NaN\n",
       "4     6XNK620\n",
       "5         NaN\n",
       "6    PS9-S917\n",
       "7         NaN\n",
       "8    WCE-2823\n",
       "9    VDS-5639\n",
       "Name: car_1, dtype: object"
      ]
     },
     "execution_count": 21,
     "metadata": {},
     "output_type": "execute_result"
    }
   ],
   "source": [
    "data.car_1"
   ]
  },
  {
   "cell_type": "markdown",
   "metadata": {},
   "source": [
    "#### Clean Missing Values"
   ]
  },
  {
   "cell_type": "markdown",
   "metadata": {},
   "source": [
    "Finally, we can use various ways to convert the missing values to more desirable values. Sometimes, in digital huamnities and social sciecnes researches, missing values show us useful imofrmation. "
   ]
  },
  {
   "cell_type": "markdown",
   "metadata": {},
   "source": [
    "In some other cases, we just want to simply fill the missing values with an empty value of the data type of that column."
   ]
  },
  {
   "cell_type": "code",
   "execution_count": 14,
   "metadata": {},
   "outputs": [
    {
     "data": {
      "text/plain": [
       "0     6ZUA618\n",
       "1      982KRK\n",
       "2    PS9-S917\n",
       "3          na\n",
       "4     6XNK620\n",
       "5            \n",
       "6    PS9-S917\n",
       "7            \n",
       "8    WCE-2823\n",
       "9    VDS-5639\n",
       "Name: car_1, dtype: object"
      ]
     },
     "execution_count": 14,
     "metadata": {},
     "output_type": "execute_result"
    }
   ],
   "source": [
    "data.car_1.fillna(\"\") # you can assign this back to the original dataframe to change the original value."
   ]
  },
  {
   "cell_type": "markdown",
   "metadata": {},
   "source": [
    "For advanced imputation methods, we will discuss them in the upcoming sessions of Machines Learning. But for now, you can refer to this post for more information: https://towardsdatascience.com/how-to-handle-missing-data-8646b18db0d4"
   ]
  },
  {
   "cell_type": "markdown",
   "metadata": {},
   "source": [
    "### How to Check & Convert Data Types using Python? | A2001"
   ]
  },
  {
   "cell_type": "markdown",
   "metadata": {},
   "source": [
    "In python, we can use the `.info()` method to check the data information (note that \"object\" includes string data type): "
   ]
  },
  {
   "cell_type": "code",
   "execution_count": 25,
   "metadata": {},
   "outputs": [
    {
     "name": "stdout",
     "output_type": "stream",
     "text": [
      "<class 'pandas.core.frame.DataFrame'>\n",
      "RangeIndex: 10 entries, 0 to 9\n",
      "Data columns (total 14 columns):\n",
      "first_name          10 non-null object\n",
      "last_name           10 non-null object\n",
      "birthday            10 non-null object\n",
      "age                 10 non-null int64\n",
      "state               10 non-null object\n",
      "address             9 non-null object\n",
      "City                10 non-null object\n",
      "phone               10 non-null object\n",
      "email               10 non-null object\n",
      "car_1               7 non-null object\n",
      "gpa                 10 non-null float64\n",
      "year                8 non-null object\n",
      "class_of            10 non-null int64\n",
      "online_signiture    10 non-null object\n",
      "dtypes: float64(1), int64(2), object(11)\n",
      "memory usage: 1.2+ KB\n"
     ]
    }
   ],
   "source": [
    "data.info()"
   ]
  },
  {
   "cell_type": "markdown",
   "metadata": {},
   "source": [
    "If we want the `class_of` column to be all string types (i.e. dummy variables), we can:"
   ]
  },
  {
   "cell_type": "code",
   "execution_count": 13,
   "metadata": {},
   "outputs": [],
   "source": [
    "data.class_of = data.class_of.to_string()"
   ]
  },
  {
   "cell_type": "markdown",
   "metadata": {},
   "source": [
    "The `to_string()` method is easy to use but sometimes you may forget. For any operations about rows, there is an alternative option:"
   ]
  },
  {
   "cell_type": "code",
   "execution_count": 28,
   "metadata": {},
   "outputs": [],
   "source": [
    "data.class_of = data.class_of.apply(lambda x: str(x))"
   ]
  },
  {
   "cell_type": "markdown",
   "metadata": {},
   "source": [
    "We can see that, after these operations, the data type description of the `class_of` column is now changed to *object*."
   ]
  },
  {
   "cell_type": "code",
   "execution_count": 29,
   "metadata": {},
   "outputs": [
    {
     "name": "stdout",
     "output_type": "stream",
     "text": [
      "<class 'pandas.core.frame.DataFrame'>\n",
      "RangeIndex: 10 entries, 0 to 9\n",
      "Data columns (total 14 columns):\n",
      "first_name          10 non-null object\n",
      "last_name           10 non-null object\n",
      "birthday            10 non-null object\n",
      "age                 10 non-null int64\n",
      "state               10 non-null object\n",
      "address             9 non-null object\n",
      "City                10 non-null object\n",
      "phone               10 non-null object\n",
      "email               10 non-null object\n",
      "car_1               7 non-null object\n",
      "gpa                 10 non-null float64\n",
      "year                8 non-null object\n",
      "class_of            10 non-null object\n",
      "online_signiture    10 non-null object\n",
      "dtypes: float64(1), int64(1), object(12)\n",
      "memory usage: 1.2+ KB\n"
     ]
    }
   ],
   "source": [
    "data.info()"
   ]
  },
  {
   "cell_type": "markdown",
   "metadata": {},
   "source": [
    "### How to Check and Clean Outliers using Python? | A3001"
   ]
  },
  {
   "cell_type": "markdown",
   "metadata": {},
   "source": [
    "In gneral cases, we want to have some understanding of how scattered is our data, i.e. the visual \"shape\" of our data. It is recommended that you draw boxplot to see the outlier status. For example, for the `age` column, you can check:"
   ]
  },
  {
   "cell_type": "code",
   "execution_count": 31,
   "metadata": {},
   "outputs": [
    {
     "data": {
      "text/plain": [
       "<matplotlib.axes._subplots.AxesSubplot at 0x1147b7470>"
      ]
     },
     "execution_count": 31,
     "metadata": {},
     "output_type": "execute_result"
    },
    {
     "data": {
      "image/png": "[encoded data removed]",
      "text/plain": [
       "<Figure size 432x288 with 1 Axes>"
      ]
     },
     "metadata": {},
     "output_type": "display_data"
    }
   ],
   "source": [
    "data.boxplot(column=[\"age\"])"
   ]
  },
  {
   "cell_type": "markdown",
   "metadata": {},
   "source": [
    "Sometimes, digital humanities and social sciences researchers don't have to clean the outliers. Instead, the research could go further by analyzing those outliers using domain knowledge. By explaining how the outliers form and what significances they have may give good perspectives or guide lines for further research.\n",
    "\n",
    "If you need to clean the outliers, however, you can either manually clean they base on your need or try some techniques packaged by others. There are some packages (in Python and/or R) you can check for specific outlier detection requirements:\n",
    "1. “Outliers”: contains some common tests used for detecting outliers such as rm.outlier (remove/replace values most different from the mean) and scores (calculates the normal, t, chi-square score of given data for identifying extreme value)\n",
    "2. “OutlierDetection”: provides labeling of outliers based on model-based outlier detection, distance-based outlier detection, depth based outlier detection \n",
    "3. “HighDimsOut”: provides three high-dimensional outlier detection methods: Angels-Based Outlier Detection (ABOD), Subspace Outlier Detection (SOD) and feature bagging-based outlier detection (FBOD)\n",
    "\n",
    "You can also refer to this post for more information: https://towardsdatascience.com/ways-to-detect-and-remove-the-outliers-404d16608dba"
   ]
  }
 ],
 "metadata": {
  "kernelspec": {
   "display_name": "Python 3",
   "language": "python",
   "name": "python3"
  },
  "language_info": {
   "codemirror_mode": {
    "name": "ipython",
    "version": 3
   },
   "file_extension": ".py",
   "mimetype": "text/x-python",
   "name": "python",
   "nbconvert_exporter": "python",
   "pygments_lexer": "ipython3",
   "version": "3.6.4"
  }
 },
 "nbformat": 4,
 "nbformat_minor": 2
}
