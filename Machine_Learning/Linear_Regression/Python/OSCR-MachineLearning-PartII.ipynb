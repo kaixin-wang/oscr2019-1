{
 "cells": [
  {
   "cell_type": "markdown",
   "metadata": {},
   "source": [
    "### OSCR Machine Learning in Python\n",
    "\n",
    "**Linear Regression Module**\n",
    "\n",
    "**&copy; Kaixin Wang**, Fall 2019\n",
    "\n"
   ]
  },
  {
   "cell_type": "markdown",
   "metadata": {},
   "source": [
    "Module/Package import"
   ]
  },
  {
   "cell_type": "code",
   "execution_count": 1,
   "metadata": {
    "collapsed": true
   },
   "outputs": [],
   "source": [
    "import numpy as np # numpy module for linear algebra\n",
    "import pandas as pd # pandas module for data manipulation\n",
    "import matplotlib.pyplot as plt # module for plotting\n",
    "import seaborn as sns # another module for plotting"
   ]
  },
  {
   "cell_type": "code",
   "execution_count": 2,
   "metadata": {
    "collapsed": true
   },
   "outputs": [],
   "source": [
    "import warnings # to handle warning messages\n",
    "warnings.filterwarnings('ignore')"
   ]
  },
  {
   "cell_type": "code",
   "execution_count": 3,
   "metadata": {
    "collapsed": true
   },
   "outputs": [],
   "source": [
    "from sklearn.linear_model import LinearRegression # package for linear model\n",
    "import statsmodels.api as sm # another package for linear model\n",
    "import statsmodels.formula.api as smf\n",
    "import scipy as sp"
   ]
  },
  {
   "cell_type": "code",
   "execution_count": 4,
   "metadata": {
    "collapsed": true
   },
   "outputs": [],
   "source": [
    "from sklearn.model_selection import train_test_split # split data into training and testing sets"
   ]
  },
  {
   "cell_type": "markdown",
   "metadata": {},
   "source": [
    "Dataset import"
   ]
  },
  {
   "cell_type": "markdown",
   "metadata": {},
   "source": [
    "The dataset that we will be using is the `meuse` dataset.\n",
    "\n",
    "As described by the author of the data: \"This data set gives locations and topsoil heavy metal concentrations, along with a number of soil and landscape variables at the observation locations, collected in a flood plain of the river Meuse, near the village of Stein (NL). Heavy metal concentrations are from composite samples of an area of approximately 15 m $\\times$ 15 m.\""
   ]
  },
  {
   "cell_type": "code",
   "execution_count": 5,
   "metadata": {},
   "outputs": [
    {
     "data": {
      "text/html": [
       "<div>\n",
       "<style>\n",
       "    .dataframe thead tr:only-child th {\n",
       "        text-align: right;\n",
       "    }\n",
       "\n",
       "    .dataframe thead th {\n",
       "        text-align: left;\n",
       "    }\n",
       "\n",
       "    .dataframe tbody tr th {\n",
       "        vertical-align: top;\n",
       "    }\n",
       "</style>\n",
       "<table border=\"1\" class=\"dataframe\">\n",
       "  <thead>\n",
       "    <tr style=\"text-align: right;\">\n",
       "      <th></th>\n",
       "      <th>x</th>\n",
       "      <th>y</th>\n",
       "      <th>cadmium</th>\n",
       "      <th>copper</th>\n",
       "      <th>lead</th>\n",
       "      <th>zinc</th>\n",
       "      <th>elev</th>\n",
       "      <th>dist</th>\n",
       "      <th>om</th>\n",
       "      <th>ffreq</th>\n",
       "      <th>soil</th>\n",
       "      <th>lime</th>\n",
       "      <th>landuse</th>\n",
       "      <th>dist.m</th>\n",
       "    </tr>\n",
       "  </thead>\n",
       "  <tbody>\n",
       "    <tr>\n",
       "      <th>0</th>\n",
       "      <td>181072</td>\n",
       "      <td>333611</td>\n",
       "      <td>11.7</td>\n",
       "      <td>85</td>\n",
       "      <td>299</td>\n",
       "      <td>1022</td>\n",
       "      <td>7.909</td>\n",
       "      <td>0.001358</td>\n",
       "      <td>13.6</td>\n",
       "      <td>1</td>\n",
       "      <td>1</td>\n",
       "      <td>1</td>\n",
       "      <td>Ah</td>\n",
       "      <td>50</td>\n",
       "    </tr>\n",
       "    <tr>\n",
       "      <th>1</th>\n",
       "      <td>181025</td>\n",
       "      <td>333558</td>\n",
       "      <td>8.6</td>\n",
       "      <td>81</td>\n",
       "      <td>277</td>\n",
       "      <td>1141</td>\n",
       "      <td>6.983</td>\n",
       "      <td>0.012224</td>\n",
       "      <td>14.0</td>\n",
       "      <td>1</td>\n",
       "      <td>1</td>\n",
       "      <td>1</td>\n",
       "      <td>Ah</td>\n",
       "      <td>30</td>\n",
       "    </tr>\n",
       "    <tr>\n",
       "      <th>2</th>\n",
       "      <td>181165</td>\n",
       "      <td>333537</td>\n",
       "      <td>6.5</td>\n",
       "      <td>68</td>\n",
       "      <td>199</td>\n",
       "      <td>640</td>\n",
       "      <td>7.800</td>\n",
       "      <td>0.103029</td>\n",
       "      <td>13.0</td>\n",
       "      <td>1</td>\n",
       "      <td>1</td>\n",
       "      <td>1</td>\n",
       "      <td>Ah</td>\n",
       "      <td>150</td>\n",
       "    </tr>\n",
       "    <tr>\n",
       "      <th>3</th>\n",
       "      <td>181298</td>\n",
       "      <td>333484</td>\n",
       "      <td>2.6</td>\n",
       "      <td>81</td>\n",
       "      <td>116</td>\n",
       "      <td>257</td>\n",
       "      <td>7.655</td>\n",
       "      <td>0.190094</td>\n",
       "      <td>8.0</td>\n",
       "      <td>1</td>\n",
       "      <td>2</td>\n",
       "      <td>0</td>\n",
       "      <td>Ga</td>\n",
       "      <td>270</td>\n",
       "    </tr>\n",
       "    <tr>\n",
       "      <th>4</th>\n",
       "      <td>181307</td>\n",
       "      <td>333330</td>\n",
       "      <td>2.8</td>\n",
       "      <td>48</td>\n",
       "      <td>117</td>\n",
       "      <td>269</td>\n",
       "      <td>7.480</td>\n",
       "      <td>0.277090</td>\n",
       "      <td>8.7</td>\n",
       "      <td>1</td>\n",
       "      <td>2</td>\n",
       "      <td>0</td>\n",
       "      <td>Ah</td>\n",
       "      <td>380</td>\n",
       "    </tr>\n",
       "  </tbody>\n",
       "</table>\n",
       "</div>"
      ],
      "text/plain": [
       "        x       y  cadmium  copper  lead  zinc   elev      dist    om  ffreq  \\\n",
       "0  181072  333611     11.7      85   299  1022  7.909  0.001358  13.6      1   \n",
       "1  181025  333558      8.6      81   277  1141  6.983  0.012224  14.0      1   \n",
       "2  181165  333537      6.5      68   199   640  7.800  0.103029  13.0      1   \n",
       "3  181298  333484      2.6      81   116   257  7.655  0.190094   8.0      1   \n",
       "4  181307  333330      2.8      48   117   269  7.480  0.277090   8.7      1   \n",
       "\n",
       "   soil  lime landuse  dist.m  \n",
       "0     1     1      Ah      50  \n",
       "1     1     1      Ah      30  \n",
       "2     1     1      Ah     150  \n",
       "3     2     0      Ga     270  \n",
       "4     2     0      Ah     380  "
      ]
     },
     "execution_count": 5,
     "metadata": {},
     "output_type": "execute_result"
    }
   ],
   "source": [
    "soil = pd.read_csv(\"soil.csv\")  # data import\n",
    "soil.head() # check if read in correctly"
   ]
  },
  {
   "cell_type": "code",
   "execution_count": 6,
   "metadata": {
    "collapsed": true,
    "scrolled": true
   },
   "outputs": [],
   "source": [
    "index = pd.isnull(soil).any(axis = 1)\n",
    "soil = soil[-index]\n",
    "soil = soil.reset_index(drop = True)"
   ]
  },
  {
   "cell_type": "code",
   "execution_count": 7,
   "metadata": {
    "collapsed": true
   },
   "outputs": [],
   "source": [
    "# size of the dataset\n",
    "n = soil.shape[1]"
   ]
  },
  {
   "cell_type": "markdown",
   "metadata": {},
   "source": [
    "Variable Selection and Modeling"
   ]
  },
  {
   "cell_type": "code",
   "execution_count": 8,
   "metadata": {},
   "outputs": [
    {
     "data": {
      "text/plain": [
       "elev      -0.584323\n",
       "dist.m    -0.584204\n",
       "dist      -0.576577\n",
       "soil      -0.430423\n",
       "ffreq     -0.399238\n",
       "x         -0.158104\n",
       "y          0.069192\n",
       "lime       0.501632\n",
       "om         0.547836\n",
       "cadmium    0.800898\n",
       "copper     0.817000\n",
       "zinc       0.954303\n",
       "lead       1.000000\n",
       "Name: lead, dtype: float64"
      ]
     },
     "execution_count": 8,
     "metadata": {},
     "output_type": "execute_result"
    }
   ],
   "source": [
    "(soil.corr()[\"lead\"]).sort_values()"
   ]
  },
  {
   "cell_type": "markdown",
   "metadata": {},
   "source": [
    "Based on visualization in the previous post as well as the sorted correlation between lead and the predictors:\n",
    "    \n",
    "- `cadmium`, `copper`, `zinc` and `om` seem to have strong **positive** correlation with lead\n",
    "- `elev`, `dist` and `dist.m` seem to have strong **negative** correlation with lead\n",
    "- categorical variable `lime` seems to be a good indicator predictor variable\n",
    "\n",
    "Therefore, we now build a linear model using 6 predictors: `cadmium`, `copper`, `zinc`, `elev`, `dist` and `lime`."
   ]
  },
  {
   "cell_type": "code",
   "execution_count": 9,
   "metadata": {
    "collapsed": true
   },
   "outputs": [],
   "source": [
    "variables = [\"cadmium\", \"copper\", \"zinc\", \"elev\", \"dist\",  \"lime\"]"
   ]
  },
  {
   "cell_type": "code",
   "execution_count": 10,
   "metadata": {
    "collapsed": true
   },
   "outputs": [],
   "source": [
    "x = soil[variables]\n",
    "y = soil[\"lead\"]"
   ]
  },
  {
   "cell_type": "markdown",
   "metadata": {},
   "source": [
    "#### Modeling - building a linear model"
   ]
  },
  {
   "cell_type": "markdown",
   "metadata": {},
   "source": [
    "split the dataset into training and testing set"
   ]
  },
  {
   "cell_type": "code",
   "execution_count": 11,
   "metadata": {
    "collapsed": true
   },
   "outputs": [],
   "source": [
    "X_train, X_test, y_train, y_test = train_test_split(x, y, test_size = 0.33, random_state = 42)"
   ]
  },
  {
   "cell_type": "markdown",
   "metadata": {},
   "source": [
    "build a linear model using `sklearn` package"
   ]
  },
  {
   "cell_type": "code",
   "execution_count": 12,
   "metadata": {
    "collapsed": true
   },
   "outputs": [],
   "source": [
    "model = LinearRegression().fit(X_train, y_train)"
   ]
  },
  {
   "cell_type": "code",
   "execution_count": 13,
   "metadata": {},
   "outputs": [
    {
     "data": {
      "text/plain": [
       "0.9483947080189404"
      ]
     },
     "execution_count": 13,
     "metadata": {},
     "output_type": "execute_result"
    }
   ],
   "source": [
    "# R^2 on training set\n",
    "R2_train = model.score(X_train, y_train)\n",
    "R2_train"
   ]
  },
  {
   "cell_type": "code",
   "execution_count": 14,
   "metadata": {},
   "outputs": [
    {
     "data": {
      "text/plain": [
       "0.964901551899052"
      ]
     },
     "execution_count": 14,
     "metadata": {},
     "output_type": "execute_result"
    }
   ],
   "source": [
    "# R^2 on testing set\n",
    "R2_test = model.score(X_test, y_test)\n",
    "R2_test"
   ]
  },
  {
   "cell_type": "code",
   "execution_count": 15,
   "metadata": {},
   "outputs": [
    {
     "name": "stdout",
     "output_type": "stream",
     "text": [
      "cadmium -13.39199000210099\n",
      "copper 0.053658632763891025\n",
      "zinc 0.423465844858694\n",
      "elev -3.253112769849327\n",
      "dist 14.509965024252311\n",
      "lime -23.51405840547695\n"
     ]
    }
   ],
   "source": [
    "# value of intercepts\n",
    "for var, coef in zip(variables, model.coef_):\n",
    "    print(var, coef)"
   ]
  },
  {
   "cell_type": "markdown",
   "metadata": {},
   "source": [
    "build a linear model using `statsmodel` package"
   ]
  },
  {
   "cell_type": "code",
   "execution_count": 16,
   "metadata": {
    "collapsed": true
   },
   "outputs": [],
   "source": [
    "df_train = pd.concat([X_train, y_train], axis = 1) # build a dataframe for training set"
   ]
  },
  {
   "cell_type": "code",
   "execution_count": 17,
   "metadata": {
    "collapsed": true
   },
   "outputs": [],
   "source": [
    "model_smf = smf.ols(\"lead ~ cadmium + copper + zinc + elev + lime\", data = df_train)"
   ]
  },
  {
   "cell_type": "code",
   "execution_count": 18,
   "metadata": {
    "scrolled": true
   },
   "outputs": [
    {
     "name": "stdout",
     "output_type": "stream",
     "text": [
      "                            OLS Regression Results                            \n",
      "==============================================================================\n",
      "Dep. Variable:                   lead   R-squared:                       0.948\n",
      "Model:                            OLS   Adj. R-squared:                  0.945\n",
      "Method:                 Least Squares   F-statistic:                     346.6\n",
      "Date:                Mon, 28 Oct 2019   Prob (F-statistic):           2.35e-59\n",
      "Time:                        22:07:35   Log-Likelihood:                -467.76\n",
      "No. Observations:                 101   AIC:                             947.5\n",
      "Df Residuals:                      95   BIC:                             963.2\n",
      "Df Model:                           5                                         \n",
      "Covariance Type:            nonrobust                                         \n",
      "==============================================================================\n",
      "                 coef    std err          t      P>|t|      [0.025      0.975]\n",
      "------------------------------------------------------------------------------\n",
      "Intercept     23.8739     27.200      0.878      0.382     -30.126      77.874\n",
      "cadmium      -13.2322      2.240     -5.908      0.000     -17.679      -8.785\n",
      "copper         0.0522      0.278      0.187      0.852      -0.500       0.605\n",
      "zinc           0.4188      0.020     20.756      0.000       0.379       0.459\n",
      "elev          -2.4719      2.895     -0.854      0.395      -8.220       3.276\n",
      "lime         -24.7610      7.775     -3.185      0.002     -40.196      -9.326\n",
      "==============================================================================\n",
      "Omnibus:                        2.077   Durbin-Watson:                   1.947\n",
      "Prob(Omnibus):                  0.354   Jarque-Bera (JB):                1.494\n",
      "Skew:                          -0.246   Prob(JB):                        0.474\n",
      "Kurtosis:                       3.336   Cond. No.                     6.42e+03\n",
      "==============================================================================\n",
      "\n",
      "Warnings:\n",
      "[1] Standard Errors assume that the covariance matrix of the errors is correctly specified.\n",
      "[2] The condition number is large, 6.42e+03. This might indicate that there are\n",
      "strong multicollinearity or other numerical problems.\n"
     ]
    }
   ],
   "source": [
    "results = model_smf.fit()\n",
    "print(results.summary())"
   ]
  },
  {
   "cell_type": "markdown",
   "metadata": {},
   "source": [
    "diagnostics plots"
   ]
  },
  {
   "cell_type": "code",
   "execution_count": 19,
   "metadata": {
    "collapsed": true
   },
   "outputs": [],
   "source": [
    "# diagnosticsPlots function definition\n",
    "def diagnosticsPlots(predictions, truevalues):\n",
    "    '''\n",
    "    This function will plot the following two diagonistics plots:\n",
    "    1. residuals vs. fitted values plot (plot on the left)\n",
    "    2. qqplot of the residuals (plot on the right)\n",
    "    \n",
    "    parameters required:\n",
    "    - predictions: predicted values using the linear regression model\n",
    "    - truevalues:  true values of the response variable\n",
    "    \n",
    "    required modules/packages:\n",
    "    - matplotlib.pyplot (plt)\n",
    "    - scipy (sp)\n",
    "    \n",
    "    Author: Kaixin Wang\n",
    "    Created: October 2019\n",
    "    '''\n",
    "    residuals = truevalues - predictions\n",
    "    fig, axs = plt.subplots(figsize = (12, 2.5))\n",
    "    plt.subplot(1, 2, 1)\n",
    "    # residuals vs. fitted values\n",
    "    plt.scatter(predictions, residuals)\n",
    "    plt.plot(predictions, np.tile(np.mean(residuals), residuals.shape[0]), \"r-\")\n",
    "    plt.xlim([np.min(predictions) - 2.5, np.max(predictions) + 2.5])\n",
    "    plt.title(\"residuals vs. fitted values\")\n",
    "    plt.ylabel(\"residuals\")\n",
    "    plt.xlabel(\"fitted values\")\n",
    "    plt.legend([\"E[residuals]\"])\n",
    "    print(\"Average of residuals: \", np.mean(residuals))\n",
    "    # qqplot\n",
    "    plot = plt.subplot(1, 2, 2)\n",
    "    sp.stats.probplot(residuals, plot = plot, fit = True)\n",
    "    plt.show()"
   ]
  },
  {
   "cell_type": "code",
   "execution_count": 20,
   "metadata": {
    "scrolled": false
   },
   "outputs": [
    {
     "name": "stdout",
     "output_type": "stream",
     "text": [
      "Average of residuals:  -8.397770927493382e-13\n"
     ]
    },
    {
     "data": {
      "image/png": "[encoded data removed]",
      "text/plain": [
       "<matplotlib.figure.Figure at 0x121a85c0>"
      ]
     },
     "metadata": {},
     "output_type": "display_data"
    }
   ],
   "source": [
    "pred_val = results.fittedvalues.copy()\n",
    "true_val = y_train.copy()\n",
    "diagnosticsPlots(pred_val, true_val)"
   ]
  },
  {
   "cell_type": "markdown",
   "metadata": {},
   "source": [
    "training and testing Root-Mean-Square Error (RMSE)"
   ]
  },
  {
   "cell_type": "markdown",
   "metadata": {},
   "source": [
    "The root-mean-square error of a prediction is calcuated as the following:\n",
    "\n",
    "$$\\text{RMSE} = \\frac{\\sqrt{\\sum_{i=1}^n (y_i - \\hat {y_i}) ^ 2}}{n}$$\n",
    "\n",
    "where $y_i$ is the true value of the response, $\\hat {y_i}$ is the fitted value of the response, n is the size of the input"
   ]
  },
  {
   "cell_type": "code",
   "execution_count": 21,
   "metadata": {
    "collapsed": true
   },
   "outputs": [],
   "source": [
    "def RMSETable(train_y, train_fitted, train_size, train_R2, test_y, test_fitted, test_size, test_R2):\n",
    "    '''\n",
    "    This function creates a function that returns a dataframe in the following format:\n",
    "    -------------------------------------------------\n",
    "                     RMSE     R-squared    size \n",
    "    training set  train_RMSE  train_R2    n_training\n",
    "    testing set   test_RMSE   tesint_R2   n_testing\n",
    "    -------------------------------------------------\n",
    "    \n",
    "    parameters required:\n",
    "    - train_y: true values of the response in the training set\n",
    "    - train_fitted: fitted values of the response in the training set\n",
    "    - train_size: size of the training set\n",
    "    - train_R2: R-squared on the training set\n",
    "    - test_y: true values of the response in the testing set\n",
    "    - test_fitted: fitted values of the response in the testing set\n",
    "    - test_size: size of the testing size\n",
    "    - test_R2: R-squared on the testing set\n",
    "    \n",
    "    Author: Kaixin Wang\n",
    "    Created: October 2019\n",
    "    '''\n",
    "    train_RMSE = np.sqrt(sum(np.power(train_y - train_fitted, 2))) / train_size\n",
    "    test_RMSE  = np.sqrt(sum(np.power(test_y  - test_fitted, 2))) / test_size\n",
    "    train = [train_RMSE, train_size, train_R2]\n",
    "    test  = [test_RMSE,  test_size,  test_R2]\n",
    "    return pd.DataFrame([train, test], index = [\"training set\", \"testing set\"], columns = [\"RMSE\", \"R-squared\", \"size\"])"
   ]
  },
  {
   "cell_type": "code",
   "execution_count": 22,
   "metadata": {},
   "outputs": [
    {
     "name": "stdout",
     "output_type": "stream",
     "text": [
      "                    RMSE  R-squared  size\n",
      "training set  262.286912   0.948395   101\n",
      "testing set   159.247070   0.964902    51\n"
     ]
    }
   ],
   "source": [
    "table1 = RMSETable(y_train.values, model.predict(X_train), R2_train, len(y_train), \n",
    "                   y_test.values, model.predict(X_test), R2_test, len(y_test))\n",
    "print(table1)"
   ]
  },
  {
   "cell_type": "markdown",
   "metadata": {},
   "source": [
    "#### Model selection"
   ]
  },
  {
   "cell_type": "markdown",
   "metadata": {},
   "source": [
    "Since we are using 6 predictor variables for 152 entries, we can consider using fewer predictors to improve the $R_{adj}^2$, where is a version of $R^2$ that penalizes model complexity.\n",
    "\n",
    "Selecting fewer predictor will also help with preventing the issue of overfitting.\n",
    "\n",
    "Therefore, observing that `zinc`, `copper` and `cadmium` are the top three predictors that have the highest correlation with `lead`: we now build a model using only these three predictors."
   ]
  },
  {
   "cell_type": "markdown",
   "metadata": {},
   "source": [
    "using `sklearn` linear regression module"
   ]
  },
  {
   "cell_type": "code",
   "execution_count": 23,
   "metadata": {
    "collapsed": true
   },
   "outputs": [],
   "source": [
    "variables = [\"cadmium\", \"copper\", \"zinc\"]\n",
    "x = soil[variables]\n",
    "y = soil[\"lead\"]\n",
    "X_train, X_test, y_train, y_test = train_test_split(x, y, test_size = 0.33, random_state = 42)"
   ]
  },
  {
   "cell_type": "code",
   "execution_count": 24,
   "metadata": {},
   "outputs": [
    {
     "name": "stdout",
     "output_type": "stream",
     "text": [
      "Training set R-squared 0.9424059338188305\n",
      "Testing set R-squared 0.954472865577916\n"
     ]
    }
   ],
   "source": [
    "model2 = LinearRegression().fit(X_train, y_train)\n",
    "# R^2 on training set\n",
    "R2_train = model2.score(X_train, y_train)\n",
    "print(\"Training set R-squared\", R2_train)\n",
    "# R^2 on testing set\n",
    "R2_test = model2.score(X_test, y_test)\n",
    "print(\"Testing set R-squared\", R2_test)"
   ]
  },
  {
   "cell_type": "code",
   "execution_count": 25,
   "metadata": {},
   "outputs": [
    {
     "name": "stdout",
     "output_type": "stream",
     "text": [
      "cadmium -14.916823671628368\n",
      "copper -0.04180596932245491\n",
      "zinc 0.42490749819042956\n"
     ]
    }
   ],
   "source": [
    "# value of intercepts\n",
    "for var, coef in zip(variables, model2.coef_):\n",
    "    print(var, coef)"
   ]
  },
  {
   "cell_type": "markdown",
   "metadata": {},
   "source": [
    "using `statsmodel` ordinary linear regrssion module"
   ]
  },
  {
   "cell_type": "code",
   "execution_count": 26,
   "metadata": {},
   "outputs": [
    {
     "name": "stdout",
     "output_type": "stream",
     "text": [
      "                            OLS Regression Results                            \n",
      "==============================================================================\n",
      "Dep. Variable:                   lead   R-squared:                       0.942\n",
      "Model:                            OLS   Adj. R-squared:                  0.941\n",
      "Method:                 Least Squares   F-statistic:                     529.1\n",
      "Date:                Mon, 28 Oct 2019   Prob (F-statistic):           5.81e-60\n",
      "Time:                        22:07:37   Log-Likelihood:                -472.96\n",
      "No. Observations:                 101   AIC:                             953.9\n",
      "Df Residuals:                      97   BIC:                             964.4\n",
      "Df Model:                           3                                         \n",
      "Covariance Type:            nonrobust                                         \n",
      "==============================================================================\n",
      "                 coef    std err          t      P>|t|      [0.025      0.975]\n",
      "------------------------------------------------------------------------------\n",
      "Intercept      3.0363      6.989      0.434      0.665     -10.836      16.908\n",
      "cadmium      -14.9168      2.268     -6.576      0.000     -19.419     -10.415\n",
      "copper        -0.0418      0.286     -0.146      0.884      -0.609       0.526\n",
      "zinc           0.4249      0.021     20.632      0.000       0.384       0.466\n",
      "==============================================================================\n",
      "Omnibus:                        4.128   Durbin-Watson:                   1.911\n",
      "Prob(Omnibus):                  0.127   Jarque-Bera (JB):                3.989\n",
      "Skew:                          -0.258   Prob(JB):                        0.136\n",
      "Kurtosis:                       3.825   Cond. No.                     1.61e+03\n",
      "==============================================================================\n",
      "\n",
      "Warnings:\n",
      "[1] Standard Errors assume that the covariance matrix of the errors is correctly specified.\n",
      "[2] The condition number is large, 1.61e+03. This might indicate that there are\n",
      "strong multicollinearity or other numerical problems.\n"
     ]
    }
   ],
   "source": [
    "df_train = pd.concat([X_train, y_train], axis = 1) # build a dataframe for training set\n",
    "model_smf = smf.ols(\"lead ~ cadmium + copper + zinc\", data = df_train)\n",
    "results = model_smf.fit()\n",
    "print(results.summary())"
   ]
  },
  {
   "cell_type": "markdown",
   "metadata": {},
   "source": [
    "diagnostics plots"
   ]
  },
  {
   "cell_type": "code",
   "execution_count": 27,
   "metadata": {
    "scrolled": true
   },
   "outputs": [
    {
     "name": "stdout",
     "output_type": "stream",
     "text": [
      "Average of residuals:  -1.3338505217833169e-12\n"
     ]
    },
    {
     "data": {
      "image/png": "[encoded data removed]",
      "text/plain": [
       "<matplotlib.figure.Figure at 0x120fed30>"
      ]
     },
     "metadata": {},
     "output_type": "display_data"
    }
   ],
   "source": [
    "pred_val = results.fittedvalues.copy()\n",
    "true_val = y_train.copy()\n",
    "diagnosticsPlots(pred_val, true_val)"
   ]
  },
  {
   "cell_type": "code",
   "execution_count": 28,
   "metadata": {},
   "outputs": [
    {
     "name": "stdout",
     "output_type": "stream",
     "text": [
      "                    RMSE  R-squared  size\n",
      "training set  278.849250   0.942406   101\n",
      "testing set   183.350488   0.954473    51\n"
     ]
    }
   ],
   "source": [
    "table2 = RMSETable(y_train.values, model2.predict(X_train), R2_train, len(y_train), \n",
    "                   y_test.values, model2.predict(X_test), R2_test, len(y_test))\n",
    "print(table2)"
   ]
  },
  {
   "cell_type": "markdown",
   "metadata": {},
   "source": [
    "#### model evaluation and comparison"
   ]
  },
  {
   "cell_type": "markdown",
   "metadata": {},
   "source": [
    "- model with 5 predictors (full model)"
   ]
  },
  {
   "cell_type": "code",
   "execution_count": 29,
   "metadata": {},
   "outputs": [
    {
     "name": "stdout",
     "output_type": "stream",
     "text": [
      "                    RMSE  R-squared  size\n",
      "training set  262.286912   0.948395   101\n",
      "testing set   159.247070   0.964902    51\n"
     ]
    }
   ],
   "source": [
    "print(table1)"
   ]
  },
  {
   "cell_type": "markdown",
   "metadata": {},
   "source": [
    "- model with 3 predictors (reduced model)"
   ]
  },
  {
   "cell_type": "code",
   "execution_count": 30,
   "metadata": {
    "scrolled": false
   },
   "outputs": [
    {
     "name": "stdout",
     "output_type": "stream",
     "text": [
      "                    RMSE  R-squared  size\n",
      "training set  278.849250   0.942406   101\n",
      "testing set   183.350488   0.954473    51\n"
     ]
    }
   ],
   "source": [
    "print(table2)"
   ]
  },
  {
   "cell_type": "markdown",
   "metadata": {},
   "source": [
    "Comparing the tables obtained above:\n",
    "\n",
    "- The full model with 6 predictors has lower test RMSE and higher $R^2$ value than the reduced model with 3 predictors \n",
    "- However, a higher $R^2$ doesn't mean that we favor the full model, since $R^2$ will always increase as the number of predictors used increases. Instead, we will take a look at $R^2_{adj}$, the adjusted $R^2$, which is calculated as \n",
    "\n",
    "$$R^2_{adj} = 1 - (1 - R^2) \\frac{n - 1}{n - p - 1}$$\n",
    "\n",
    "where $n$ is the sample size and $p$ is the number of predictors used in the model.\n",
    "\n",
    "- Since $R^2_{adj}$ of the full model is 0.945, while the $R^2_{adj}$ of the reduced model is 0.941, we observe that the model doens't obtain very much improvement by adding three additional predictors."
   ]
  },
  {
   "cell_type": "markdown",
   "metadata": {},
   "source": [
    "#### Summary of the module\n",
    "\n",
    "By building two linear regression models using 6 and 3 predictors respectively, we observe that predictor variables `cadmium`, `copper` and `zinc` have very strong positive correlation with the response variable `lead`. In addition, we also observed that by adding three more predictors, `dist`, `elev` and `lime`, the $R^2_{adj}$ didn't get much improvement comparing to the model with only 3 predictors.\n",
    "\n",
    "Therefore, the final model that we decided to adopt is the reduced model with 3 predictors:\n",
    "\n",
    "$$\\text{Lead} \\sim \\text{Cadmium} + \\text{Copper} + \\text{Zinc}$$"
   ]
  },
  {
   "cell_type": "markdown",
   "metadata": {},
   "source": [
    "Reference:\n",
    "\n",
    "Dataset: `meuse` dataset\n",
    "\n",
    "- P.A. Burrough, R.A. McDonnell, 1998. Principles of Geographical Information Systems. Oxford University Press.\n",
    "- Stichting voor Bodemkartering (STIBOKA), 1970. Bodemkaart van Nederland : Blad 59 Peer, Blad 60 West en 60 Oost Sittard: schaal 1 : 50 000. Wageningen, STIBOKA.\n",
    "\n",
    "To access this dataset in `R`:\n",
    "\n",
    "```\n",
    "install.packages(\"sp\")\n",
    "library(sp)\n",
    "data(meuse)\n",
    "```"
   ]
  },
  {
   "cell_type": "markdown",
   "metadata": {},
   "source": [
    "**&copy; Kaixin Wang**, updated October 2019"
   ]
  }
 ],
 "metadata": {
  "kernelspec": {
   "display_name": "Python [default]",
   "language": "python",
   "name": "python3"
  },
  "language_info": {
   "codemirror_mode": {
    "name": "ipython",
    "version": 3
   },
   "file_extension": ".py",
   "mimetype": "text/x-python",
   "name": "python",
   "nbconvert_exporter": "python",
   "pygments_lexer": "ipython3",
   "version": "3.5.3"
  }
 },
 "nbformat": 4,
 "nbformat_minor": 2
}
