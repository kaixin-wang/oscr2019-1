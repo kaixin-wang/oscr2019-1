{
 "cells": [
  {
   "cell_type": "markdown",
   "metadata": {},
   "source": [
    "## Workshop: Introduction to Regular Expressions with Python for Digital Humanities (Part I)"
   ]
  },
  {
   "cell_type": "markdown",
   "metadata": {},
   "source": [
    "Leo (Lizhou) Fan\n",
    "\n",
    "Acknowledgement: Dr. Ashley Sanders Garcia"
   ]
  },
  {
   "cell_type": "markdown",
   "metadata": {},
   "source": [
    "### Import Packages the Example File\n",
    "A pseudo OCR document"
   ]
  },
  {
   "cell_type": "code",
   "execution_count": 3,
   "metadata": {},
   "outputs": [],
   "source": [
    "f = open('example.txt', 'r')\n",
    "file = f.read()\n",
    "f.close()"
   ]
  },
  {
   "cell_type": "code",
   "execution_count": 4,
   "metadata": {},
   "outputs": [
    {
     "data": {
      "text/plain": [
       "'Aaaaa,      bbb.\\nLF:ccc  ddd,\\neeeeee. f\\n-1-\\n\\nH. AG:I j \\nK. lllll mn\\n        -2\\n\\nOPQ345634\\nR         AG:ST\\nUV4W\\n---3-\\n\\n\\n'"
      ]
     },
     "execution_count": 4,
     "metadata": {},
     "output_type": "execute_result"
    }
   ],
   "source": [
    "file"
   ]
  },
  {
   "cell_type": "markdown",
   "metadata": {},
   "source": [
    "### 0. Regex Implementation in Python"
   ]
  },
  {
   "cell_type": "code",
   "execution_count": 5,
   "metadata": {},
   "outputs": [],
   "source": [
    "import re"
   ]
  },
  {
   "cell_type": "markdown",
   "metadata": {},
   "source": [
    "You can search for patterns matching what you want, you can use `re.findall()` function:"
   ]
  },
  {
   "cell_type": "code",
   "execution_count": 6,
   "metadata": {},
   "outputs": [
    {
     "data": {
      "text/plain": [
       "['1', '2', '3', '4', '5', '6', '3', '4', '4', '3']"
      ]
     },
     "execution_count": 6,
     "metadata": {},
     "output_type": "execute_result"
    }
   ],
   "source": [
    "# example: finding all the digits in the example file\n",
    "re.findall(r'\\d',file)"
   ]
  },
  {
   "cell_type": "markdown",
   "metadata": {},
   "source": [
    "There are more functions avaliable for [performing matches](https://docs.python.org/3/howto/regex.html#performing-matches)."
   ]
  },
  {
   "cell_type": "markdown",
   "metadata": {},
   "source": [
    "### 1. Removing Page Numbers\n",
    "Page numbers here are with a pattern: a `-` character is **before** all of them. We can then replace digits with this pattern using `re.sub()` function:"
   ]
  },
  {
   "cell_type": "code",
   "execution_count": 8,
   "metadata": {},
   "outputs": [],
   "source": [
    "file = re.sub(r'-\\d','',file)"
   ]
  },
  {
   "cell_type": "code",
   "execution_count": 9,
   "metadata": {},
   "outputs": [
    {
     "data": {
      "text/plain": [
       "'Aaaaa,      bbb.\\nLF:ccc  ddd,\\neeeeee. f\\n-\\n\\nH. AG:I j \\nK. lllll mn\\n        \\n\\nOPQ345634\\nR         AG:ST\\nUV4W\\n---\\n\\n\\n'"
      ]
     },
     "execution_count": 9,
     "metadata": {},
     "output_type": "execute_result"
    }
   ],
   "source": [
    "file"
   ]
  },
  {
   "cell_type": "markdown",
   "metadata": {},
   "source": [
    "The page numbers disapear while keep all othet digits."
   ]
  },
  {
   "cell_type": "markdown",
   "metadata": {},
   "source": [
    "##### Warning: Regex is a pretty case specific techique. Some of the methods introduced below may need modifications in other sotuation."
   ]
  },
  {
   "cell_type": "markdown",
   "metadata": {},
   "source": [
    "### 2. Joining Lines"
   ]
  },
  {
   "cell_type": "markdown",
   "metadata": {},
   "source": [
    "Clean the `\\n` and `-` characters. Again, we use the `re.sub` function. Notice that this time, we use a space as the target to seperate words."
   ]
  },
  {
   "cell_type": "code",
   "execution_count": 17,
   "metadata": {},
   "outputs": [],
   "source": [
    "file = re.sub(r'(\\n)|-',' ',file)"
   ]
  },
  {
   "cell_type": "code",
   "execution_count": 18,
   "metadata": {},
   "outputs": [
    {
     "data": {
      "text/plain": [
       "'Aaaaa,      bbb. LF:ccc  ddd, eeeeee. f    H. AG:I j  K. lllll mn           OPQ345634 R         AG:ST UV4W       '"
      ]
     },
     "execution_count": 18,
     "metadata": {},
     "output_type": "execute_result"
    }
   ],
   "source": [
    "file"
   ]
  },
  {
   "cell_type": "markdown",
   "metadata": {},
   "source": [
    "##### Warning: If lines are stores as a list, some more advanced fucntions are needed. Please expect this in our next session."
   ]
  },
  {
   "cell_type": "markdown",
   "metadata": {},
   "source": [
    "The problem now is: there are too many spaces. We than clean the spaces by leaving only one space between two words and no space at the end of the word or the string. Here, `+` is a Quantifier used for representing the appearing of a certain thing for once or more."
   ]
  },
  {
   "cell_type": "code",
   "execution_count": 21,
   "metadata": {},
   "outputs": [],
   "source": [
    "file = re.sub(r' +',' ',file)"
   ]
  },
  {
   "cell_type": "code",
   "execution_count": 22,
   "metadata": {},
   "outputs": [
    {
     "data": {
      "text/plain": [
       "'Aaaaa, bbb. LF:ccc ddd, eeeeee. f H. AG:I j K. lllll mn OPQ345634 R AG:ST UV4W '"
      ]
     },
     "execution_count": 22,
     "metadata": {},
     "output_type": "execute_result"
    }
   ],
   "source": [
    "file"
   ]
  },
  {
   "cell_type": "markdown",
   "metadata": {},
   "source": [
    "There are more knowledge about [repeating things](https://docs.python.org/3/howto/regex.html#repeating-things)."
   ]
  },
  {
   "cell_type": "markdown",
   "metadata": {},
   "source": [
    "### 3. Splitting Documents with Conditions"
   ]
  },
  {
   "cell_type": "markdown",
   "metadata": {},
   "source": [
    "In this pseudo OCR document, we assume that a `:` proceed by two initials are correct and represent the name of the speakers. If there is no initials before a sentence, it is might be the introduction of this ducoment. Sometimes, punctuations are missing (to mimic the complexity of OCR documents).  \n",
    "\n",
    "Our task here is to split the string of the document into a list with different sentences."
   ]
  },
  {
   "cell_type": "code",
   "execution_count": 26,
   "metadata": {},
   "outputs": [
    {
     "data": {
      "text/plain": [
       "['Aaaaa, bbb. ',\n",
       " 'ccc ddd, eeeeee. f H. ',\n",
       " 'I j K. lllll mn OPQ345634 R ',\n",
       " 'ST UV4W ']"
      ]
     },
     "execution_count": 26,
     "metadata": {},
     "output_type": "execute_result"
    }
   ],
   "source": [
    "re.split(r'[A-Z]{2}:',file)"
   ]
  },
  {
   "cell_type": "markdown",
   "metadata": {},
   "source": [
    "One draw back of doing so is that we lose the information of the initials. We can use more complex Regex skills regarding grouping to maintian them. We can also use [Pandas dataframes](https://www.geeksforgeeks.org/python-pandas-dataframe/) to store this kind of information.\n",
    "\n",
    "**Question:** Do you spot any other problem in the above list? Is there anything that do not comply to your understanding of \"sentences\"?"
   ]
  },
  {
   "cell_type": "markdown",
   "metadata": {},
   "source": [
    "##### Is the above pretty easy? Maybe, maybe not... There are more things to learn:"
   ]
  },
  {
   "cell_type": "markdown",
   "metadata": {},
   "source": [
    "### 4. Correcting Common OCR Errors\n",
    "Many posts are doing a pretty good job in introducting this topic:\n",
    "1. [Cleaning OCR’d text with Regular Expressions](https://programminghistorian.org/en/lessons/cleaning-ocrd-text-with-regular-expressions) by Laura Turner O'Hara\n",
    "2. [Generating an Ordered Data Set from an OCR Text File](https://programminghistorian.org/en/lessons/generating-an-ordered-data-set-from-an-OCR-text-file) by Jon Crump  \n",
    "3. [Using regular expressions to clean and process OCR data](https://www.meredithpaker.com/updates/regexcleaning) by Meredith M. Paker\n",
    "4. [TroveKleaner: a Knime workflow for correcting OCR errors](http://seenanotherway.com/trovekleaner/) by Angus Veitch\n",
    "\n",
    "See Tasks in the slides about what you need to explore with the four (and maybe more) posts!"
   ]
  },
  {
   "cell_type": "markdown",
   "metadata": {},
   "source": [
    "Appendix: Suggested readings\n",
    "1. [Regex HOWTO](https://docs.python.org/3/howto/regex.html#regular-expression-howto) by A.M. Kuchling introduced basic regular expressions in Python. Two of the above links are from sections in this post.\n",
    "2. You can also download a [Regex Cheat Sheet](https://www.cheatography.com/davechild/cheat-sheets/regular-expressions/) by David Child. This is by far one of the most popular cheat sheets about Regex."
   ]
  },
  {
   "cell_type": "markdown",
   "metadata": {},
   "source": [
    "##### Good Luck!"
   ]
  }
 ],
 "metadata": {
  "kernelspec": {
   "display_name": "Python 3",
   "language": "python",
   "name": "python3"
  },
  "language_info": {
   "codemirror_mode": {
    "name": "ipython",
    "version": 3
   },
   "file_extension": ".py",
   "mimetype": "text/x-python",
   "name": "python",
   "nbconvert_exporter": "python",
   "pygments_lexer": "ipython3",
   "version": "3.6.4"
  }
 },
 "nbformat": 4,
 "nbformat_minor": 2
}
